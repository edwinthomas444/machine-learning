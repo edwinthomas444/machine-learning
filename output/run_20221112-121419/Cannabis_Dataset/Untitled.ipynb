{
 "cells": [
  {
   "cell_type": "code",
   "execution_count": 4,
   "id": "d9b82498-8b0c-4f03-adac-8fe1a485b74b",
   "metadata": {},
   "outputs": [
    {
     "data": {
      "text/plain": [
       "\"{'decisiontreeclassifier__ccp_alpha': 0.005, 'decisiontreeclassifier__class_weight': 'balanced', 'decisiontreeclassifier__criterion': 'entropy', 'decisiontreeclassifier__max_depth': 4, 'decisiontreeclassifier__max_features': None, 'decisiontreeclassifier__min_samples_leaf': 27, 'decisiontreeclassifier__random_state': 3, 'decisiontreeclassifier__splitter': 'best'}\""
      ]
     },
     "execution_count": 4,
     "metadata": {},
     "output_type": "execute_result"
    }
   ],
   "source": [
    "import pandas as pd\n",
    "xls = 'BestModel_MetaData.csv'\n",
    "df = pd.read_csv(xls)\n",
    "df.iloc[8]['best_params']"
   ]
  },
  {
   "cell_type": "code",
   "execution_count": null,
   "id": "237ef26d-217c-4e35-bf82-d0699ec00bc9",
   "metadata": {},
   "outputs": [],
   "source": []
  }
 ],
 "metadata": {
  "kernelspec": {
   "display_name": "ml_env",
   "language": "python",
   "name": "ml_env"
  },
  "language_info": {
   "codemirror_mode": {
    "name": "ipython",
    "version": 3
   },
   "file_extension": ".py",
   "mimetype": "text/x-python",
   "name": "python",
   "nbconvert_exporter": "python",
   "pygments_lexer": "ipython3",
   "version": "3.8.10"
  }
 },
 "nbformat": 4,
 "nbformat_minor": 5
}
