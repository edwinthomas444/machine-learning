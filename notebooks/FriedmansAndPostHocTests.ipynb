{
 "cells": [
  {
   "cell_type": "code",
   "execution_count": 194,
   "id": "1b9ff49d-dd70-476a-ab2a-031931a535f2",
   "metadata": {},
   "outputs": [],
   "source": [
    "import pandas as pd\n",
    "import numpy as np\n",
    "import glob\n",
    "import Orange\n",
    "from IPython.display import display, HTML"
   ]
  },
  {
   "cell_type": "code",
   "execution_count": 195,
   "id": "061009d4-40a7-4510-822e-c41e70ca0730",
   "metadata": {},
   "outputs": [],
   "source": [
    "def FriedmanTest(df):\n",
    "    \n",
    "    n,k = df.shape\n",
    "    \n",
    "    rank_df = df.rank(axis=1,method='max',ascending=False)\n",
    "    avg_rank_df=np.mean(rank_df,axis=0)\n",
    "    \n",
    "    # first compute average of ranks\n",
    "    R_avg = sum((avg_rank_df*n))/(n*k)\n",
    "    # then compute sum of squared distance w.r.t column ranks\n",
    "    SSD_1 = n*sum((avg_rank_df - R_avg)**2)\n",
    "    # then compute sum of squared distance w.r.t all ranks\n",
    "    SSD_2 = sum(np.sum((rank_df - R_avg)**2))/(n*(k-1))\n",
    "    # compute f-statistic measure\n",
    "    f_stat = SSD_1/SSD_2\n",
    "    return f_stat, avg_rank_df\n",
    "\n"
   ]
  },
  {
   "cell_type": "code",
   "execution_count": 218,
   "id": "c5aee062-a383-43ab-8c44-03dc877bd1ce",
   "metadata": {},
   "outputs": [
    {
     "name": "stdout",
     "output_type": "stream",
     "text": [
      "\n",
      "METRIC: micro_acc %\n",
      "\n"
     ]
    },
    {
     "data": {
      "text/html": [
       "<table border=\"1\" class=\"dataframe\">\n",
       "  <thead>\n",
       "    <tr style=\"text-align: right;\">\n",
       "      <th>model_name</th>\n",
       "      <th>DecisionTreeClassifier</th>\n",
       "      <th>GradientBoostingClassifier</th>\n",
       "      <th>KNeighborsClassifier</th>\n",
       "      <th>MLPClassifier</th>\n",
       "      <th>RandomForestClassifier</th>\n",
       "      <th>SVC</th>\n",
       "    </tr>\n",
       "    <tr>\n",
       "      <th>dataset</th>\n",
       "      <th></th>\n",
       "      <th></th>\n",
       "      <th></th>\n",
       "      <th></th>\n",
       "      <th></th>\n",
       "      <th></th>\n",
       "    </tr>\n",
       "  </thead>\n",
       "  <tbody>\n",
       "    <tr>\n",
       "      <th>DrugConsumption_downsample_random</th>\n",
       "      <td>77.15 (6.0)</td>\n",
       "      <td>78.42 (2.0)</td>\n",
       "      <td>78.21 (3.0)</td>\n",
       "      <td>77.89 (4.0)</td>\n",
       "      <td>77.81 (5.0)</td>\n",
       "      <td>78.66 (1.0)</td>\n",
       "    </tr>\n",
       "    <tr>\n",
       "      <th>DrugConsumption_nosample</th>\n",
       "      <td>77.2 (6.0)</td>\n",
       "      <td>80.36 (3.0)</td>\n",
       "      <td>80.12 (4.0)</td>\n",
       "      <td>81.21 (2.0)</td>\n",
       "      <td>79.43 (5.0)</td>\n",
       "      <td>81.29 (1.0)</td>\n",
       "    </tr>\n",
       "    <tr>\n",
       "      <th>DrugConsumption_upsample_random</th>\n",
       "      <td>75.72 (6.0)</td>\n",
       "      <td>79.59 (1.0)</td>\n",
       "      <td>78.45 (4.0)</td>\n",
       "      <td>77.95 (5.0)</td>\n",
       "      <td>79.19 (3.0)</td>\n",
       "      <td>79.19 (2.0)</td>\n",
       "    </tr>\n",
       "    <tr>\n",
       "      <th>HeartDisease_nosample</th>\n",
       "      <td>78.31 (6.0)</td>\n",
       "      <td>78.97 (5.0)</td>\n",
       "      <td>80.83 (4.0)</td>\n",
       "      <td>82.49 (2.0)</td>\n",
       "      <td>81.15 (3.0)</td>\n",
       "      <td>83.32 (1.0)</td>\n",
       "    </tr>\n",
       "    <tr>\n",
       "      <th>Labour_nosample</th>\n",
       "      <td>77.67 (6.0)</td>\n",
       "      <td>87.0 (5.0)</td>\n",
       "      <td>89.33 (4.0)</td>\n",
       "      <td>91.17 (2.0)</td>\n",
       "      <td>91.17 (3.0)</td>\n",
       "      <td>93.67 (1.0)</td>\n",
       "    </tr>\n",
       "  </tbody>\n",
       "</table>"
      ],
      "text/plain": [
       "<IPython.core.display.HTML object>"
      ]
     },
     "metadata": {},
     "output_type": "display_data"
    },
    {
     "name": "stdout",
     "output_type": "stream",
     "text": [
      "fstat (manual):  17.23\n",
      "fstat (library):  FriedmanchisquareResult(statistic=17.228571428571428, pvalue=0.004086097575337763)\n",
      "Critical Difference (manual):  3.37\n",
      "Critical Difference (library):  3.3718164276595783\n"
     ]
    },
    {
     "data": {
      "image/png": "[encoded data removed]",
      "text/plain": [
       "<Figure size 500x185 with 1 Axes>"
      ]
     },
     "metadata": {},
     "output_type": "display_data"
    },
    {
     "name": "stdout",
     "output_type": "stream",
     "text": [
      "\n",
      "METRIC: macro_acc %\n",
      "\n"
     ]
    },
    {
     "data": {
      "text/html": [
       "<table border=\"1\" class=\"dataframe\">\n",
       "  <thead>\n",
       "    <tr style=\"text-align: right;\">\n",
       "      <th>model_name</th>\n",
       "      <th>DecisionTreeClassifier</th>\n",
       "      <th>GradientBoostingClassifier</th>\n",
       "      <th>KNeighborsClassifier</th>\n",
       "      <th>MLPClassifier</th>\n",
       "      <th>RandomForestClassifier</th>\n",
       "      <th>SVC</th>\n",
       "    </tr>\n",
       "    <tr>\n",
       "      <th>dataset</th>\n",
       "      <th></th>\n",
       "      <th></th>\n",
       "      <th></th>\n",
       "      <th></th>\n",
       "      <th></th>\n",
       "      <th></th>\n",
       "    </tr>\n",
       "  </thead>\n",
       "  <tbody>\n",
       "    <tr>\n",
       "      <th>DrugConsumption_downsample_random</th>\n",
       "      <td>78.12 (6.0)</td>\n",
       "      <td>79.71 (2.0)</td>\n",
       "      <td>79.68 (3.0)</td>\n",
       "      <td>79.05 (4.0)</td>\n",
       "      <td>78.94 (5.0)</td>\n",
       "      <td>80.11 (1.0)</td>\n",
       "    </tr>\n",
       "    <tr>\n",
       "      <th>DrugConsumption_nosample</th>\n",
       "      <td>75.58 (6.0)</td>\n",
       "      <td>77.06 (5.0)</td>\n",
       "      <td>77.24 (4.0)</td>\n",
       "      <td>78.44 (3.0)</td>\n",
       "      <td>79.01 (1.0)</td>\n",
       "      <td>78.6 (2.0)</td>\n",
       "    </tr>\n",
       "    <tr>\n",
       "      <th>DrugConsumption_upsample_random</th>\n",
       "      <td>76.53 (6.0)</td>\n",
       "      <td>79.61 (2.0)</td>\n",
       "      <td>79.4 (4.0)</td>\n",
       "      <td>78.85 (5.0)</td>\n",
       "      <td>79.6 (3.0)</td>\n",
       "      <td>80.4 (1.0)</td>\n",
       "    </tr>\n",
       "    <tr>\n",
       "      <th>HeartDisease_nosample</th>\n",
       "      <td>78.05 (6.0)</td>\n",
       "      <td>78.71 (5.0)</td>\n",
       "      <td>80.54 (4.0)</td>\n",
       "      <td>82.34 (2.0)</td>\n",
       "      <td>80.74 (3.0)</td>\n",
       "      <td>83.17 (1.0)</td>\n",
       "    </tr>\n",
       "    <tr>\n",
       "      <th>Labour_nosample</th>\n",
       "      <td>73.54 (6.0)</td>\n",
       "      <td>85.42 (5.0)</td>\n",
       "      <td>86.88 (4.0)</td>\n",
       "      <td>90.0 (2.0)</td>\n",
       "      <td>89.79 (3.0)</td>\n",
       "      <td>91.88 (1.0)</td>\n",
       "    </tr>\n",
       "  </tbody>\n",
       "</table>"
      ],
      "text/plain": [
       "<IPython.core.display.HTML object>"
      ]
     },
     "metadata": {},
     "output_type": "display_data"
    },
    {
     "name": "stdout",
     "output_type": "stream",
     "text": [
      "fstat (manual):  17.23\n",
      "fstat (library):  FriedmanchisquareResult(statistic=17.228571428571428, pvalue=0.004086097575337763)\n",
      "Critical Difference (manual):  3.37\n",
      "Critical Difference (library):  3.3718164276595783\n"
     ]
    },
    {
     "data": {
      "image/png": "[encoded data removed]",
      "text/plain": [
       "<Figure size 500x185 with 1 Axes>"
      ]
     },
     "metadata": {},
     "output_type": "display_data"
    },
    {
     "name": "stdout",
     "output_type": "stream",
     "text": [
      "\n",
      "METRIC: g_mean %\n",
      "\n"
     ]
    },
    {
     "data": {
      "text/html": [
       "<table border=\"1\" class=\"dataframe\">\n",
       "  <thead>\n",
       "    <tr style=\"text-align: right;\">\n",
       "      <th>model_name</th>\n",
       "      <th>DecisionTreeClassifier</th>\n",
       "      <th>GradientBoostingClassifier</th>\n",
       "      <th>KNeighborsClassifier</th>\n",
       "      <th>MLPClassifier</th>\n",
       "      <th>RandomForestClassifier</th>\n",
       "      <th>SVC</th>\n",
       "    </tr>\n",
       "    <tr>\n",
       "      <th>dataset</th>\n",
       "      <th></th>\n",
       "      <th></th>\n",
       "      <th></th>\n",
       "      <th></th>\n",
       "      <th></th>\n",
       "      <th></th>\n",
       "    </tr>\n",
       "  </thead>\n",
       "  <tbody>\n",
       "    <tr>\n",
       "      <th>DrugConsumption_downsample_random</th>\n",
       "      <td>77.98 (6.0)</td>\n",
       "      <td>79.55 (2.0)</td>\n",
       "      <td>79.48 (3.0)</td>\n",
       "      <td>78.91 (4.0)</td>\n",
       "      <td>78.8 (5.0)</td>\n",
       "      <td>79.93 (1.0)</td>\n",
       "    </tr>\n",
       "    <tr>\n",
       "      <th>DrugConsumption_nosample</th>\n",
       "      <td>75.05 (6.0)</td>\n",
       "      <td>76.37 (5.0)</td>\n",
       "      <td>76.71 (4.0)</td>\n",
       "      <td>77.93 (3.0)</td>\n",
       "      <td>78.87 (1.0)</td>\n",
       "      <td>78.09 (2.0)</td>\n",
       "    </tr>\n",
       "    <tr>\n",
       "      <th>DrugConsumption_upsample_random</th>\n",
       "      <td>76.43 (6.0)</td>\n",
       "      <td>79.56 (2.0)</td>\n",
       "      <td>79.29 (4.0)</td>\n",
       "      <td>78.72 (5.0)</td>\n",
       "      <td>79.54 (3.0)</td>\n",
       "      <td>80.26 (1.0)</td>\n",
       "    </tr>\n",
       "    <tr>\n",
       "      <th>HeartDisease_nosample</th>\n",
       "      <td>77.73 (6.0)</td>\n",
       "      <td>78.23 (5.0)</td>\n",
       "      <td>80.1 (4.0)</td>\n",
       "      <td>81.88 (2.0)</td>\n",
       "      <td>80.3 (3.0)</td>\n",
       "      <td>82.83 (1.0)</td>\n",
       "    </tr>\n",
       "    <tr>\n",
       "      <th>Labour_nosample</th>\n",
       "      <td>61.72 (6.0)</td>\n",
       "      <td>81.47 (5.0)</td>\n",
       "      <td>82.61 (4.0)</td>\n",
       "      <td>86.46 (2.0)</td>\n",
       "      <td>86.21 (3.0)</td>\n",
       "      <td>88.47 (1.0)</td>\n",
       "    </tr>\n",
       "  </tbody>\n",
       "</table>"
      ],
      "text/plain": [
       "<IPython.core.display.HTML object>"
      ]
     },
     "metadata": {},
     "output_type": "display_data"
    },
    {
     "name": "stdout",
     "output_type": "stream",
     "text": [
      "fstat (manual):  17.23\n",
      "fstat (library):  FriedmanchisquareResult(statistic=17.228571428571428, pvalue=0.004086097575337763)\n",
      "Critical Difference (manual):  3.37\n",
      "Critical Difference (library):  3.3718164276595783\n"
     ]
    },
    {
     "data": {
      "image/png": "[encoded data removed]",
      "text/plain": [
       "<Figure size 500x185 with 1 Axes>"
      ]
     },
     "metadata": {},
     "output_type": "display_data"
    }
   ],
   "source": [
    "import warnings\n",
    "from scipy import stats\n",
    "\n",
    "warnings.filterwarnings('ignore')\n",
    "\n",
    "# all datasets\n",
    "path = {'DrugConsumption_nosample':'run_20221106-102731-repeated-k6-Cannabis-no-sampling/Cannabis_Dataset',\n",
    "        'DrugConsumption_upsample_smote':'run_20221106-134917-repeated-k6-Cannabis-smote-upsampling/Cannabis_Dataset',\n",
    "        'DrugConsumption_upsample_random':'run_20221107-122815-repeated-k6-Cannabis-random-oversample/Cannabis_Dataset',\n",
    "        'DrugConsumption_downsample_random':'run_20221106-195730-repeated-k6-Cannabis-random-downsample/Cannabis_Dataset',\n",
    "        'DrugConsumption_downsample_onesided':'run_20221108-084805-repeated-k6-Cannabis-onesided-downsample/Cannabis_Dataset',\n",
    "        'HeartDisease_nosample':'run_20221107-090012-repeated-k14-HeartDisease-no-sampling/HeartDisease_Dataset',\n",
    "        'Labour_nosample':'run_20221107-103706-repeated-k12-LabourDataset-no-sampling/Labour_Dataset'}\n",
    "\n",
    "# specified 5 datasets\n",
    "path = {'DrugConsumption_nosample':'run_20221106-102731-repeated-k6-Cannabis-no-sampling/Cannabis_Dataset',\n",
    "        'DrugConsumption_upsample_random':'run_20221107-122815-repeated-k6-Cannabis-random-oversample/Cannabis_Dataset',\n",
    "        'DrugConsumption_downsample_random':'run_20221106-195730-repeated-k6-Cannabis-random-downsample/Cannabis_Dataset',\n",
    "        'HeartDisease_nosample':'run_20221107-090012-repeated-k14-HeartDisease-no-sampling/HeartDisease_Dataset',\n",
    "        'Labour_nosample':'run_20221107-103706-repeated-k12-LabourDataset-no-sampling/Labour_Dataset'}\n",
    "\n",
    "metrics = ['micro_acc','macro_acc','g_mean']\n",
    "\n",
    "all_dfs = {}\n",
    "\n",
    "for k, p in path.items():\n",
    "\n",
    "    d1_csv = f'../output/{p}/BestModel_MetaData.csv'\n",
    "    df1 = pd.read_csv(d1_csv)\n",
    "    \n",
    "    \n",
    "    for metric in metrics:\n",
    "        df_metric = df1.pivot(index='fold', columns='model_name', values=metric)\n",
    "\n",
    "\n",
    "        metricm = df_metric.mean()\n",
    "        df_metricm = metricm.to_frame().reset_index()\n",
    "        df_metricm.columns = ['model_name',metric]\n",
    "        df_metricm.rename(columns={0:'model_name',1:metric},inplace=True)\n",
    "        df_metricm['dataset']=k\n",
    "\n",
    "      \n",
    "        if metric not in all_dfs:\n",
    "            all_dfs[metric] = df_metricm\n",
    "        else:\n",
    "            all_dfs[metric] = pd.concat([all_dfs[metric],df_metricm],axis=0)\n",
    "    \n",
    "for metric in all_dfs:\n",
    "    metric_df = all_dfs[metric]\n",
    "    piv = metric_df.pivot(index='dataset',columns='model_name',values=metric)\n",
    "    print(f\"\\nMETRIC: {metric} %\\n\")\n",
    "    \n",
    "    # get ranks and values next to each other\n",
    "    rank_df = piv.rank(axis=1,method='max',ascending=False)\n",
    "    piv_p = (piv*100).round(2)\n",
    "    disp_df = piv_p.astype(str).add(' (').add(rank_df.astype(str)).add(')')\n",
    "    display(HTML(disp_df.to_html()))\n",
    "    fstat, avg_rank = FriedmanTest(piv)\n",
    "    print('fstat (manual): ',round(fstat,2))\n",
    "    df_l = piv.to_numpy()\n",
    "    stat = stats.friedmanchisquare(*[df_l[:, col] for col in np.arange(df_l.shape[1])])\n",
    "    print('fstat (library): ',stat)\n",
    "    \n",
    "    # Compute Critical Difference for Nemenyi post hoc testing\n",
    "    n,k = piv.shape\n",
    "    qalpha = 2.849705\n",
    "    CD = qalpha*(math.sqrt(k*(k+1)/(6*n)))\n",
    "    print('Critical Difference (manual): ',round(CD,2))\n",
    "    \n",
    "    CD_l = Orange.evaluation.compute_CD(avg_rank, n, alpha='0.05', test='nemenyi')\n",
    "    print('Critical Difference (library): ',CD_l)\n",
    "    \n",
    "    Orange.evaluation.graph_ranks(avg_rank.values,avg_rank.index,cd=Critical_difference,width=5,textspace=1, filename=f'./{metric}_CD.png')\n",
    "    plt.show()"
   ]
  },
  {
   "cell_type": "markdown",
   "id": "7f546f80-28df-400d-83fe-245ea2f4e2af",
   "metadata": {},
   "source": [
    "# Obtain best HP for all the files"
   ]
  },
  {
   "cell_type": "code",
   "execution_count": 219,
   "id": "62d25286-3b6a-4ce7-b942-fb9aed307701",
   "metadata": {},
   "outputs": [],
   "source": [
    "# Best hyper parameters for each fold\n",
    "path = {'DrugConsumption_nosample':'run_20221106-102731-repeated-k6-Cannabis-no-sampling/Cannabis_Dataset',\n",
    "        'DrugConsumption_upsample_smote':'run_20221106-134917-repeated-k6-Cannabis-smote-upsampling/Cannabis_Dataset',\n",
    "        'DrugConsumption_upsample_random':'run_20221107-122815-repeated-k6-Cannabis-random-oversample/Cannabis_Dataset',\n",
    "        'DrugConsumption_downsample_random':'run_20221106-195730-repeated-k6-Cannabis-random-downsample/Cannabis_Dataset',\n",
    "        'DrugConsumption_downsample_onesided':'run_20221108-084805-repeated-k6-Cannabis-onesided-downsample/Cannabis_Dataset',\n",
    "        'HeartDisease_nosample':'run_20221107-090012-repeated-k14-HeartDisease-no-sampling/HeartDisease_Dataset',\n",
    "        'Labour_nosample':'run_20221107-103706-repeated-k12-LabourDataset-no-sampling/Labour_Dataset'}\n"
   ]
  },
  {
   "cell_type": "code",
   "execution_count": 232,
   "id": "75163edb-d320-4e89-92a4-0dfc6bd2b313",
   "metadata": {},
   "outputs": [],
   "source": [
    "for k, p in path.items():\n",
    "    d1_csv = f'../output/{p}/BestModel_MetaData.csv'\n",
    "    df1 = pd.read_csv(d1_csv)\n",
    "    piv = df1.pivot(index='fold',columns='model_name',values='best_params') \n",
    "    piv.to_csv(f'{k}_best_hp.csv')"
   ]
  },
  {
   "cell_type": "code",
   "execution_count": null,
   "id": "84b64f83-2584-4a0f-9806-b9649d1594a5",
   "metadata": {},
   "outputs": [],
   "source": []
  },
  {
   "cell_type": "code",
   "execution_count": null,
   "id": "b63a1c14-a75c-4a14-acc2-74deda90704a",
   "metadata": {},
   "outputs": [],
   "source": []
  }
 ],
 "metadata": {
  "kernelspec": {
   "display_name": "ml_env",
   "language": "python",
   "name": "ml_env"
  },
  "language_info": {
   "codemirror_mode": {
    "name": "ipython",
    "version": 3
   },
   "file_extension": ".py",
   "mimetype": "text/x-python",
   "name": "python",
   "nbconvert_exporter": "python",
   "pygments_lexer": "ipython3",
   "version": "3.8.10"
  }
 },
 "nbformat": 4,
 "nbformat_minor": 5
}
